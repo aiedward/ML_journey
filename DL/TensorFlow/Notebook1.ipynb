{
  "nbformat": 4,
  "nbformat_minor": 0,
  "metadata": {
    "colab": {
      "name": "Notebook1.ipynb",
      "version": "0.3.2",
      "provenance": [],
      "collapsed_sections": []
    },
    "kernelspec": {
      "name": "python3",
      "display_name": "Python 3"
    }
  },
  "cells": [
    {
      "cell_type": "code",
      "metadata": {
        "id": "EZ0sh8AbdDhQ",
        "colab_type": "code",
        "colab": {
          "base_uri": "https://localhost:8080/",
          "height": 51
        },
        "outputId": "f2df135f-55d6-4cbb-8f1e-c31612d61ea9"
      },
      "source": [
        "import tensorflow as tf\n",
        "\n",
        "a=tf.constant(3.0, tf.float32)\n",
        "b=tf.constant(4.0, tf.float32)\n",
        "\n",
        "print(a,b)\n",
        "\n",
        "c=a*b\n",
        "\n",
        "sess=tf.Session()\n",
        "\n",
        "print(sess.run(c))\n",
        "\n",
        "sess.close()"
      ],
      "execution_count": 14,
      "outputs": [
        {
          "output_type": "stream",
          "text": [
            "Tensor(\"Const_22:0\", shape=(), dtype=float32) Tensor(\"Const_23:0\", shape=(), dtype=float32)\n",
            "12.0\n"
          ],
          "name": "stdout"
        }
      ]
    },
    {
      "cell_type": "code",
      "metadata": {
        "id": "47UUk4X7ijDk",
        "colab_type": "code",
        "colab": {
          "base_uri": "https://localhost:8080/",
          "height": 51
        },
        "outputId": "0f0c7e61-7c64-40d6-c8e0-dc7c449710d4"
      },
      "source": [
        "import tensorflow as tf\n",
        "\n",
        "a=tf.placeholder(tf.float32)\n",
        "b=tf.placeholder(tf.float32)\n",
        "\n",
        "print(a,b)\n",
        "\n",
        "c=a*b\n",
        "\n",
        "sess=tf.Session()\n",
        "\n",
        "print(sess.run(c,{a:2.2,b:9.2}))\n",
        "\n",
        "sess.close()"
      ],
      "execution_count": 15,
      "outputs": [
        {
          "output_type": "stream",
          "text": [
            "Tensor(\"Placeholder:0\", dtype=float32) Tensor(\"Placeholder_1:0\", dtype=float32)\n",
            "20.24\n"
          ],
          "name": "stdout"
        }
      ]
    },
    {
      "cell_type": "code",
      "metadata": {
        "id": "IMoO3Amvix2X",
        "colab_type": "code",
        "colab": {
          "base_uri": "https://localhost:8080/",
          "height": 51
        },
        "outputId": "f67be3cc-e67f-4cfb-96fc-3aa8256ad318"
      },
      "source": [
        "import tensorflow as tf\n",
        "\n",
        "#Model parameters\n",
        "w=tf.Variable([.3],tf.float32)\n",
        "b=tf.Variable([-.3],tf.float32)\n",
        "\n",
        "#Input and output\n",
        "\n",
        "x=tf.placeholder(tf.float32)\n",
        "linear_model=w*x+b\n",
        "y=tf.placeholder(tf.float32)\n",
        "\n",
        "#loss\n",
        "squared_delta=tf.square(linear_model-y)\n",
        "loss=tf.reduce_sum(squared_delta)\n",
        "\n",
        "init=tf.global_variables_initializer()\n",
        "sess=tf.Session()\n",
        "sess.run(init)\n",
        "print(sess.run(loss,{x:[1,2,3,4],y:[0,-1,-2,-3]}))\n",
        "\n",
        "\n",
        "#Optimizer\n",
        "optimizer=tf.train.GradientDescentOptimizer(learning_rate=.01)\n",
        "train=optimizer.minimize(loss)\n",
        "epochs=1000\n",
        "sess.run(init)\n",
        "\n",
        "for i in range(epochs):\n",
        "  sess.run(train,{x:[1,2,3,4],y:[0,-1,-2,-3]})\n",
        "print(sess.run([w,b]))\n",
        "sess.close()"
      ],
      "execution_count": 29,
      "outputs": [
        {
          "output_type": "stream",
          "text": [
            "23.66\n",
            "[array([-0.9999969], dtype=float32), array([0.9999908], dtype=float32)]\n"
          ],
          "name": "stdout"
        }
      ]
    }
  ]
}