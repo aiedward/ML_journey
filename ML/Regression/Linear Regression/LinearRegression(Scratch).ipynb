{
  "nbformat": 4,
  "nbformat_minor": 0,
  "metadata": {
    "colab": {
      "name": "LinearRegression(Scratch).ipynb",
      "version": "0.3.2",
      "provenance": [],
      "collapsed_sections": []
    },
    "kernelspec": {
      "name": "python3",
      "display_name": "Python 3"
    }
  },
  "cells": [
    {
      "metadata": {
        "id": "jFlXMkKOjOoE",
        "colab_type": "code",
        "colab": {}
      },
      "cell_type": "code",
      "source": [
        "import pandas as pd\n",
        "import numpy as np\n",
        "import matplotlib.pyplot as plt\n",
        "%matplotlib inline\n",
        "from sklearn import datasets"
      ],
      "execution_count": 0,
      "outputs": []
    },
    {
      "metadata": {
        "id": "iROlbB0AkNbD",
        "colab_type": "code",
        "colab": {}
      },
      "cell_type": "code",
      "source": [
        "df={\n",
        "    'x':[2,4,6,7,8,9,11,13,14,16,17,23,26,29,31,34],\n",
        "    'y':[5,16,38,49,61,74,85,96,117,133,163,224,248,262,287,341]\n",
        "}\n",
        "df=pd.DataFrame(df)\n",
        "X=df['x']\n",
        "Y=df['y']"
      ],
      "execution_count": 0,
      "outputs": []
    },
    {
      "metadata": {
        "id": "fShFIj1unGcN",
        "colab_type": "code",
        "colab": {
          "base_uri": "https://localhost:8080/",
          "height": 34
        },
        "outputId": "7ba60e0c-7a30-4c1c-b1d3-04c66438f6d0"
      },
      "cell_type": "code",
      "source": [
        "mean_X=np.mean(X)\n",
        "mean_Y=np.mean(Y)\n",
        "n=len(X)\n",
        "num=0\n",
        "den=0\n",
        "for i in range(n):\n",
        "  num+=(X[i]-mean_X)*(Y[i]-mean_Y)\n",
        "  den+=(X[i] - mean_X)**2\n",
        "m=num/den\n",
        "c=mean_Y - (m*mean_X)\n",
        "print(m,c)"
      ],
      "execution_count": 47,
      "outputs": [
        {
          "output_type": "stream",
          "text": [
            "10.306372947488214 -23.599577304503327\n"
          ],
          "name": "stdout"
        }
      ]
    },
    {
      "metadata": {
        "id": "m2F38nTHpI4i",
        "colab_type": "code",
        "colab": {
          "base_uri": "https://localhost:8080/",
          "height": 279
        },
        "outputId": "bbfb4367-20c8-4ca0-d557-1e069d6272de"
      },
      "cell_type": "code",
      "source": [
        "max_x=np.max(X)+10\n",
        "min_x=np.min(X)-10\n",
        "\n",
        "x=np.linspace(min_x,max_x,100)\n",
        "y=c+m*x\n",
        "\n",
        "plt.scatter(X,Y,color='blue',label=\"Scatter plot\")\n",
        "plt.plot(x,y,color='green',label=\"Regression line\")\n",
        "\n",
        "plt.xlabel('x')\n",
        "plt.ylabel('y')\n",
        "plt.show()"
      ],
      "execution_count": 48,
      "outputs": [
        {
          "output_type": "display_data",
          "data": {
            "image/png": "[encoded data removed]",
            "text/plain": [
              "<Figure size 432x288 with 1 Axes>"
            ]
          },
          "metadata": {
            "tags": []
          }
        }
      ]
    }
  ]
}